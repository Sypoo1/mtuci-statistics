{
 "cells": [
  {
   "cell_type": "markdown",
   "metadata": {},
   "source": [
    "Основные понятия статистического эксперемента\n",
    "\n",
    "ген. сл. чисел от 0 до 1\n",
    "\n",
    "(Xmax - Xmin) * rand(1) + Xmin\n",
    "(Ymax - Ymin) * rand(1) + Ymin\n",
    "\n",
    "радиус = (Xmax - Xmin) / 2\n",
    "\n",
    "R - R0 < del\n",
    "\n",
    "m - число точек внутри круга\n",
    "n - общее число эксперементов\n",
    "\n",
    "m/n = Sкруг/Sквадрат = Pi * R0^2 / 4*R0^2 = Pi / 4 \n",
    "\n",
    "\n",
    "10^3, 10^4, 10^5, 10^6 => Piрасчетное - Pi / Pi * 100 = q"
   ]
  },
  {
   "cell_type": "markdown",
   "metadata": {},
   "source": [
    "вторая работа\n",
    "\n",
    "y = x^3 + 1\n",
    "\n",
    "f(a) = a^3 + 1\n",
    "\n",
    "\n",
    "f(xp) < yp\n",
    "\n",
    "S"
   ]
  },
  {
   "cell_type": "markdown",
   "metadata": {},
   "source": [
    "Задание № 1"
   ]
  },
  {
   "cell_type": "code",
   "execution_count": 12,
   "metadata": {},
   "outputs": [],
   "source": [
    "from random import randint\n",
    "import math\n",
    "\n",
    "\n",
    "pi = math.pi\n",
    "\n",
    "x0, y0 = 1, 2\n",
    "\n",
    "r0 = 5\n",
    "\n",
    "xmax = x0 + r0\n",
    "xmin = x0 - r0\n",
    "ymax = y0 + r0\n",
    "ymin = y0 - r0\n",
    "\n",
    "m = 0\n",
    "n = 10 ** 3\n"
   ]
  },
  {
   "cell_type": "code",
   "execution_count": 13,
   "metadata": {},
   "outputs": [
    {
     "name": "stdout",
     "output_type": "stream",
     "text": [
      "for n = 1000 delta = 13.03773909458838\n",
      "for n = 10000 delta = 5.01632996275686\n",
      "for n = 100000 delta = 5.230234206272369\n",
      "for n = 1000000 delta = 5.349664075568527\n"
     ]
    }
   ],
   "source": [
    "n_power = [10 ** 3, 10 ** 4, 10 ** 5, 10 ** 6]\n",
    "for n in n_power:\n",
    "    for _ in range(n):\n",
    "        x = randint(xmin, xmax)\n",
    "        y = randint(ymin, ymax)\n",
    "\n",
    "        r = math.sqrt( (x - x0)**2 + (y - y0) **2)\n",
    "        if r <= r0:\n",
    "            m += 1\n",
    "\n",
    "    pi_count = 4 * m / n\n",
    "\n",
    "    delta = abs(pi_count - pi) / pi * 100\n",
    "\n",
    "    print(f\"for n = {n} delta = {delta}\")"
   ]
  },
  {
   "cell_type": "markdown",
   "metadata": {},
   "source": [
    "Задание № 2\n"
   ]
  },
  {
   "cell_type": "code",
   "execution_count": 34,
   "metadata": {},
   "outputs": [
    {
     "name": "stdout",
     "output_type": "stream",
     "text": [
      "for n = 10000, delta = 0.47000000000000003\n",
      "for n = 100000, delta = 0.7069999999999983\n",
      "for n = 1000000, delta = 0.19370000000000037\n",
      "for n = 10000000, delta = 0.026079999999994996\n"
     ]
    }
   ],
   "source": [
    "import random\n",
    "\n",
    "def f(x):\n",
    "    return x ** 3 + 1\n",
    "\n",
    "x_min = 0\n",
    "x_max = 2\n",
    "y_min = 0\n",
    "y_max = 9\n",
    "\n",
    "n_array = [10**4, 10**5, 10**6, 10**7]\n",
    "\n",
    "\n",
    "for n in n_array:\n",
    "    m = 0\n",
    "    for _ in range(n):\n",
    "\n",
    "        x = (x_max-x_min) * random.random() + x_min\n",
    "        y = (y_max-y_min) * random.random() + y_min\n",
    "\n",
    "        if f(x) > y:\n",
    "            m += 1\n",
    "\n",
    "    s_count = m  * 2 * 9  / n\n",
    "    s = 6\n",
    "    s_delta = abs(s_count - s) / s * 100\n",
    "\n",
    "    print(f\"for n = {n}, delta = {s_delta}\")\n",
    "\n",
    "\n"
   ]
  },
  {
   "cell_type": "code",
   "execution_count": 41,
   "metadata": {},
   "outputs": [
    {
     "name": "stdout",
     "output_type": "stream",
     "text": [
      "for n = 10000, delta = 2.353946870814368\n",
      "for n = 100000, delta = 0.28136809127174395\n",
      "for n = 1000000, delta = 0.012698540517726266\n",
      "for n = 10000000, delta = 0.00482597207651006\n"
     ]
    }
   ],
   "source": [
    "import random\n",
    "import math\n",
    "\n",
    "def f(x):\n",
    "    return math.exp(x**2)\n",
    "\n",
    "x_min = 0\n",
    "x_max = 2\n",
    "y_min = 0\n",
    "y_max = f(x_max)\n",
    "\n",
    "n_array = [10**4, 10**5, 10**6, 10**7]\n",
    "\n",
    "\n",
    "for n in n_array:\n",
    "    m = 0\n",
    "    for _ in range(n):\n",
    "\n",
    "        x = (x_max-x_min) * random.random() + x_min\n",
    "        y = (y_max-y_min) * random.random() + y_min\n",
    "\n",
    "        if f(x) > y:\n",
    "            m += 1\n",
    "\n",
    "    s_count = m  * 2 * y_max  / n\n",
    "    s = 16.45\n",
    "    s_delta = abs(s_count - s) / s * 100\n",
    "\n",
    "    print(f\"for n = {n}, delta = {s_delta}\")\n",
    "\n",
    "\n"
   ]
  },
  {
   "cell_type": "code",
   "execution_count": null,
   "metadata": {},
   "outputs": [],
   "source": []
  }
 ],
 "metadata": {
  "kernelspec": {
   "display_name": "Python 3",
   "language": "python",
   "name": "python3"
  },
  "language_info": {
   "codemirror_mode": {
    "name": "ipython",
    "version": 3
   },
   "file_extension": ".py",
   "mimetype": "text/x-python",
   "name": "python",
   "nbconvert_exporter": "python",
   "pygments_lexer": "ipython3",
   "version": "3.11.5"
  }
 },
 "nbformat": 4,
 "nbformat_minor": 2
}
