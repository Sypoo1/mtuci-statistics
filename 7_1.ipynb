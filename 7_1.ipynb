{
 "cells": [
  {
   "cell_type": "markdown",
   "metadata": {},
   "source": [
    "Задание №1"
   ]
  },
  {
   "cell_type": "code",
   "execution_count": 1,
   "metadata": {},
   "outputs": [
    {
     "name": "stdout",
     "output_type": "stream",
     "text": [
      "Выборочная дисперсия от фактора случайности (S0^2): 5.6256\n"
     ]
    }
   ],
   "source": [
    "# Входные данные\n",
    "data = [\n",
    "    [3, 7, 3, 6, 6, 7, 6, 3, 8, 3],\n",
    "    [6, 5, 7, 4, 9, 4, 3, 2, 7, 8],\n",
    "    [8, 6, 3, 2, 7, 8, 6, 9, 3, 8],\n",
    "    [4, 7, 7, 8, 6, 4, 5, 8, 4, 7],\n",
    "    [6, 2, 6, 6, 8, 9, 7, 6, 8, 1],\n",
    "]\n",
    "\n",
    "m = len(data)  # Количество рядов\n",
    "k = len(data[0])  # Количество столбцов\n",
    "\n",
    "# Рассчитать общее среднее значение\n",
    "all_values = [value for row in data for value in row]\n",
    "overall_mean = sum(all_values) / len(all_values)\n",
    "\n",
    "# Рассчитать средние значения по рядам (x̄_i)\n",
    "row_means = [sum(row) / k for row in data]\n",
    "\n",
    "# Рассчитать средние значения по столбцам\n",
    "col_means = []\n",
    "for j in range(k):\n",
    "    column = [data[i][j] for i in range(m)]\n",
    "    col_means.append(sum(column) / len(column))\n",
    "\n",
    "# Вычислить первый элемент\n",
    "first_term = 0\n",
    "for j in range(k):\n",
    "    for i in range(m):\n",
    "        first_term += (data[i][j] - row_means[i]) ** 2\n",
    "first_term /= ((m-1) * (k - 1))\n",
    "\n",
    "# Вычислить второй элемент\n",
    "second_term = 0\n",
    "for j in range(k):\n",
    "    second_term += (col_means[j] - overall_mean) ** 2\n",
    "second_term *= m /((m-1) * (k - 1))\n",
    "\n",
    "# Вычислить S0^2\n",
    "S0_squared = first_term - second_term\n",
    "\n",
    "# Вывод\n",
    "print(f\"Выборочная дисперсия от фактора случайности (S0^2): {S0_squared:.4f}\")"
   ]
  },
  {
   "cell_type": "markdown",
   "metadata": {},
   "source": [
    "Задание №2"
   ]
  },
  {
   "cell_type": "code",
   "execution_count": 2,
   "metadata": {},
   "outputs": [
    {
     "name": "stdout",
     "output_type": "stream",
     "text": [
      "Выборочная дисперсия, включающая влияние фактора A (S_A^2): 2.0533\n"
     ]
    }
   ],
   "source": [
    "SA_squared = 0\n",
    "\n",
    "for j in range(k):\n",
    "    SA_squared += (col_means[j] - overall_mean) ** 2\n",
    "SA_squared*= m/(k-1)\n",
    "\n",
    "# Вывод\n",
    "print(f\"Выборочная дисперсия, включающая влияние фактора A (S_A^2): {SA_squared:.4f}\")"
   ]
  },
  {
   "cell_type": "markdown",
   "metadata": {},
   "source": [
    "Задание №3"
   ]
  },
  {
   "cell_type": "code",
   "execution_count": 3,
   "metadata": {},
   "outputs": [
    {
     "name": "stdout",
     "output_type": "stream",
     "text": [
      "Выборочная дисперсия, включающая влияние фактора B (S_B^2): 1.2700\n"
     ]
    }
   ],
   "source": [
    "SB_squared = 0\n",
    "\n",
    "for i in range(m):\n",
    "    SB_squared += (row_means[i] - overall_mean) ** 2\n",
    "SB_squared*= k/(m-1)\n",
    "\n",
    "# Вывод\n",
    "print(f\"Выборочная дисперсия, включающая влияние фактора B (S_B^2): {SB_squared:.4f}\")"
   ]
  },
  {
   "cell_type": "markdown",
   "metadata": {},
   "source": [
    "Задание №4"
   ]
  },
  {
   "cell_type": "code",
   "execution_count": 4,
   "metadata": {},
   "outputs": [
    {
     "name": "stdout",
     "output_type": "stream",
     "text": [
      "Критерий Фишера для фактора A (F_A): 0.3650\n",
      "Критическое значение фактора: 2.1526\n",
      "Фактор A незначимый.\n"
     ]
    }
   ],
   "source": [
    "from scipy.stats import f\n",
    "\n",
    "# Вычислить фактор A Фишера\n",
    "F_A = SA_squared / S0_squared\n",
    "\n",
    "# Критическое значение фактора\n",
    "f1, f2 = k - 1, (m - 1) * (k - 1)  # Степени свободы\n",
    "F_critical = f.ppf(0.95, f1, f2)   # Уровень достоверности 95%\n",
    "\n",
    "# Определить значимость\n",
    "if F_A > F_critical:\n",
    "    is_A_significant = True\n",
    "    result = \"Фактор A значимый.\"\n",
    "else:\n",
    "    is_A_significant = False\n",
    "    result = \"Фактор A незначимый.\"\n",
    "\n",
    "# Вывод\n",
    "print(f\"Критерий Фишера для фактора A (F_A): {F_A:.4f}\")\n",
    "print(f\"Критическое значение фактора: {F_critical:.4f}\")\n",
    "print(result)"
   ]
  },
  {
   "cell_type": "code",
   "execution_count": 5,
   "metadata": {},
   "outputs": [],
   "source": [
    "# Формула 6 - значимый\n",
    "# generalized_variance = (SA_squared - S0_squared)/m\n",
    "# print(f\"Генеральная дисперсия (S_0^2): {generalized_variance:.4f}\")"
   ]
  },
  {
   "cell_type": "code",
   "execution_count": 6,
   "metadata": {},
   "outputs": [
    {
     "name": "stdout",
     "output_type": "stream",
     "text": [
      "Генеральная дисперсия (S_0^2): 4.9111\n"
     ]
    }
   ],
   "source": [
    "# Формула 8 - незначимый\n",
    "part_one = (k-1) * SA_squared + (m-1) * (k-1) * S0_squared\n",
    "part_two = (k-1) + (m-1) * (k-1)\n",
    "\n",
    "generalized_variance = part_one / part_two\n",
    "# Вывод\n",
    "print(f\"Генеральная дисперсия (S_0^2): {generalized_variance:.4f}\")"
   ]
  },
  {
   "cell_type": "markdown",
   "metadata": {},
   "source": [
    "Задание №5"
   ]
  },
  {
   "cell_type": "code",
   "execution_count": 7,
   "metadata": {},
   "outputs": [
    {
     "name": "stdout",
     "output_type": "stream",
     "text": [
      "Критерий Фишера для фактора B (F_B): 0.2258\n",
      "Критическое значение фактора: 2.6335\n",
      "Фактор B незначимый.\n"
     ]
    }
   ],
   "source": [
    "from scipy.stats import f\n",
    "\n",
    "# Вычислить фактор B Фишера\n",
    "F_B = SB_squared / S0_squared\n",
    "\n",
    "# Критическое значение фактора\n",
    "f1, f2 = m - 1, (m - 1) * (k - 1)  # Степени свободы\n",
    "F_critical = f.ppf(0.95, f1, f2)   # Уровень достоверности 95%\n",
    "\n",
    "# Определить значимость\n",
    "if F_B > F_critical:\n",
    "    is_B_significant = True\n",
    "    result = \"Фактор B значимый.\"\n",
    "else:\n",
    "    is_B_significant = False\n",
    "    result = \"Фактор B незначимый.\"\n",
    "\n",
    "# Вывод\n",
    "print(f\"Критерий Фишера для фактора B (F_B): {F_B:.4f}\")\n",
    "print(f\"Критическое значение фактора: {F_critical:.4f}\")\n",
    "print(result)"
   ]
  },
  {
   "cell_type": "code",
   "execution_count": 8,
   "metadata": {},
   "outputs": [],
   "source": [
    "# Формула 7 - значимый\n",
    "# general_variance = (SB_squared - S0_squared)/k\n",
    "# print(f\"Генеральная дисперсия (S_0^2): {general_variance} \")"
   ]
  },
  {
   "cell_type": "code",
   "execution_count": 9,
   "metadata": {},
   "outputs": [
    {
     "name": "stdout",
     "output_type": "stream",
     "text": [
      "Генеральная дисперсия (S_0^2): 5.1900\n"
     ]
    }
   ],
   "source": [
    "# Формула 9 - незначимый\n",
    "part_one = (m-1) * SB_squared + (m-1) * (k-1) * S0_squared\n",
    "part_two = (m-1) + (m-1) * (k-1)\n",
    "\n",
    "generalized_variance = part_one / part_two\n",
    "# Вывод\n",
    "print(f\"Генеральная дисперсия (S_0^2): {generalized_variance:.4f}\")"
   ]
  },
  {
   "cell_type": "markdown",
   "metadata": {},
   "source": [
    "Задание №6"
   ]
  },
  {
   "cell_type": "code",
   "execution_count": 10,
   "metadata": {},
   "outputs": [
    {
     "name": "stdout",
     "output_type": "stream",
     "text": [
      "Генеральная дисперсия, если оба фактора незначимые = 4.6139\n"
     ]
    }
   ],
   "source": [
    "# Если оба фактора незначимые\n",
    "if not is_A_significant and not is_B_significant:\n",
    "    p1 = (m-1)*SB_squared + (k-1)*SA_squared + (m-1)*(k-1)*S0_squared\n",
    "    p2 = (m-1) + (k-1) + (m-1)*(k-1)\n",
    "    general_variance = p1/p2\n",
    "\n",
    "    print(f\"Генеральная дисперсия, если оба фактора незначимые = {general_variance:.4f}\")"
   ]
  },
  {
   "cell_type": "markdown",
   "metadata": {},
   "source": [
    "Задание №7"
   ]
  },
  {
   "cell_type": "code",
   "execution_count": 11,
   "metadata": {},
   "outputs": [
    {
     "name": "stdout",
     "output_type": "stream",
     "text": [
      "Генеральная дисперсия (оба фактора незначимые): 4.6139\n"
     ]
    }
   ],
   "source": [
    "def calculate_general_variance(SA_squared=SA_squared, SB_squared=SB_squared, S0_squared=S0_squared, k=k, m=m, significance_level=0.95):\n",
    "\n",
    "    # Степени свободы\n",
    "    f1_B, f2_B = k - 1, (m - 1) * (k - 1)  # Фактор A\n",
    "    f1_A, f2_A = m - 1, (m - 1) * (k - 1)  # Фактор B\n",
    "\n",
    "    # Критические значения факторов\n",
    "    F_critical_A = f.ppf(significance_level, f1_A, f2_A)\n",
    "    F_critical_B = f.ppf(significance_level, f1_B, f2_B)\n",
    "\n",
    "    # Статистика факторов Фишера\n",
    "    F_A = SA_squared / S0_squared\n",
    "    F_B = SB_squared / S0_squared\n",
    "\n",
    "    # Определить значимость\n",
    "    is_A_significant = F_A > F_critical_A\n",
    "    is_B_significant = F_B > F_critical_B\n",
    "\n",
    "    # Рассчитать генеральную дисперсию\n",
    "    if is_B_significant and not is_A_significant:\n",
    "        # Формула 7 - фактор B значимый\n",
    "        general_variance = (SB_squared - S0_squared) / k\n",
    "        print(f\"Генеральная дисперсия (фактор B значимый): {general_variance:.4f}\")\n",
    "    elif is_A_significant and not is_B_significant:\n",
    "        # Формула 6 - фактор A значимый\n",
    "        general_variance = (SA_squared - S0_squared) / m\n",
    "        print(f\"Генеральная дисперсия (фактор A значимый): {general_variance:.4f}\")\n",
    "    elif not is_B_significant and not is_A_significant:\n",
    "        # Оба фактора незначимые\n",
    "        p1 = (m - 1) * SB_squared + (k - 1) * SA_squared + (m - 1) * (k - 1) * S0_squared\n",
    "        p2 = (m - 1) + (k - 1) + (m - 1) * (k - 1)\n",
    "        general_variance = p1 / p2\n",
    "        print(f\"Генеральная дисперсия (оба фактора незначимые): {general_variance:.4f}\")\n",
    "    else:\n",
    "        # Оба фактора значимые\n",
    "        part_one_B = (m - 1) * SB_squared + (m - 1) * (k - 1) * S0_squared\n",
    "        part_two_B = (m - 1) + (m - 1) * (k - 1)\n",
    "        generalized_variance_B = part_one_B / part_two_B\n",
    "\n",
    "        part_one_A = (k - 1) * SA_squared + (m - 1) * (k - 1) * S0_squared\n",
    "        part_two_A = (k - 1) + (m - 1) * (k - 1)\n",
    "        generalized_variance_A = part_one_A / part_two_A\n",
    "\n",
    "        print(f\"Генеральная дисперсия (фактор A): {generalized_variance_A:.4f}\")\n",
    "        print(f\"Генеральная дисперсия (фактор B): {generalized_variance_B:.4f}\")\n",
    "    \n",
    "    return None\n",
    "\n",
    "calculate_general_variance()"
   ]
  }
 ],
 "metadata": {
  "kernelspec": {
   "display_name": ".venv",
   "language": "python",
   "name": "python3"
  },
  "language_info": {
   "codemirror_mode": {
    "name": "ipython",
    "version": 3
   },
   "file_extension": ".py",
   "mimetype": "text/x-python",
   "name": "python",
   "nbconvert_exporter": "python",
   "pygments_lexer": "ipython3",
   "version": "3.12.5"
  }
 },
 "nbformat": 4,
 "nbformat_minor": 2
}
