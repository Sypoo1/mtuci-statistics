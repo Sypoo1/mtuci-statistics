{
 "cells": [
  {
   "cell_type": "markdown",
   "metadata": {},
   "source": [
    "Задание № 1\n",
    "\n",
    "Создать функцию, реализующую мультипликативный метод генерации последовательности случайных чисел со следующими параметрами: a = 22695477, b = 1, m = 2^32"
   ]
  },
  {
   "cell_type": "code",
   "execution_count": 112,
   "metadata": {},
   "outputs": [],
   "source": [
    "import numpy as np\n",
    "\n",
    "\n",
    "def multiplicative_random_generator(x_0, size, a=22695477, b=1, m=2**32):\n",
    "    \n",
    "    random_numbers = np.zeros(size, dtype=np.float128)\n",
    "    \n",
    "    \n",
    "    random_numbers[0] = ((a * x_0 + b) % m)\n",
    "\n",
    "\n",
    "    \n",
    "    for i in range(1, size):\n",
    "        random_numbers[i] = ((a * random_numbers[i-1] + b) % m)\n",
    "\n",
    "    for i in range(len(random_numbers)):\n",
    "        random_numbers[i] = random_numbers[i] / m\n",
    "\n",
    "    return random_numbers\n",
    "\n",
    "\n",
    "\n"
   ]
  },
  {
   "cell_type": "code",
   "execution_count": 113,
   "metadata": {},
   "outputs": [],
   "source": [
    "def normalize(A, B, array):\n",
    "\n",
    "    for i in range(len(array)):\n",
    "        array[i] = A + (B - A) * array[i]\n",
    "        \n",
    "    return array"
   ]
  },
  {
   "cell_type": "code",
   "execution_count": 114,
   "metadata": {},
   "outputs": [],
   "source": [
    "x_0 = 1  \n",
    "A = 0\n",
    "B = 10\n",
    "N_2 = 10 ** 2\n",
    "N_3 = 10 ** 3\n",
    "N_4 = 10 ** 4\n",
    "N_5 = 10 ** 5 \n"
   ]
  },
  {
   "cell_type": "markdown",
   "metadata": {},
   "source": [
    "Задание №2.\n",
    "Сгенерировать с помощью функции, реализующей мультипликативный метод, равномерно распределенные последовательности случайных чисел в интервале от А=0 до В=10 длинной N =10^2,10^3,10^4,10^5. В качестве начального значения для генератора использовать = 1"
   ]
  },
  {
   "cell_type": "code",
   "execution_count": 115,
   "metadata": {},
   "outputs": [
    {
     "name": "stdout",
     "output_type": "stream",
     "text": [
      "N ^ 2\n",
      "[0.05284202750772238, 5.019934882875532, 6.675799330696464, 0.16643698560073972, 6.77865092176944, 6.086047131102532, 2.6848535053431988, 0.9788859472610056, 3.5016853688284755, 9.749483184423298]\n",
      "9.7629655105993151665\n",
      "0.008191149681806564331\n",
      "N ^ 3\n",
      "[0.05284202750772238, 5.019934882875532, 6.675799330696464, 0.16643698560073972, 6.77865092176944, 6.086047131102532, 2.6848535053431988, 0.9788859472610056, 3.5016853688284755, 9.749483184423298]\n",
      "9.988266697619110346\n",
      "0.006172833964228630066\n",
      "N ^ 4\n",
      "[0.05284202750772238, 5.019934882875532, 6.675799330696464, 0.16643698560073972, 6.77865092176944, 6.086047131102532, 2.6848535053431988, 0.9788859472610056, 3.5016853688284755, 9.749483184423298]\n",
      "9.999648779630661011\n",
      "0.0006142398342490196228\n",
      "N ^ 5\n",
      "[0.05284202750772238, 5.019934882875532, 6.675799330696464, 0.16643698560073972, 6.77865092176944, 6.086047131102532, 2.6848535053431988, 0.9788859472610056, 3.5016853688284755, 9.749483184423298]\n",
      "9.999999389983713627\n",
      "9.815208613872528076e-05\n"
     ]
    }
   ],
   "source": [
    "RParamsArr_e2 = normalize(A=A, B=B, array=(multiplicative_random_generator(x_0=x_0, size=N_2)))\n",
    "RParamsArr_e3 = normalize(A=A, B=B, array=(multiplicative_random_generator(x_0=x_0, size=N_3)))\n",
    "RParamsArr_e4 = normalize(A=A, B=B, array=(multiplicative_random_generator(x_0=x_0, size=N_4)))\n",
    "RParamsArr_e5 = normalize(A=A, B=B, array=(multiplicative_random_generator(x_0=x_0, size=N_5)))\n",
    "\n",
    "# print(RParamsArr_e2)\n",
    "print(\"N ^ 2\")\n",
    "\n",
    "print([float(num) for num in RParamsArr_e2[0:10]])\n",
    "print(max(RParamsArr_e2))\n",
    "print(min(RParamsArr_e2))\n",
    "\n",
    "print(\"N ^ 3\")\n",
    "print([float(num) for num in RParamsArr_e3[0:10]])\n",
    "print(max(RParamsArr_e3))\n",
    "print(min(RParamsArr_e3))\n",
    "\n",
    "print(\"N ^ 4\")\n",
    "print([float(num) for num in RParamsArr_e4[0:10]])\n",
    "print(max(RParamsArr_e4))\n",
    "print(min(RParamsArr_e4))\n",
    "\n",
    "print(\"N ^ 5\")\n",
    "print([float(num) for num in RParamsArr_e5[0:10]])\n",
    "print(max(RParamsArr_e5))\n",
    "print(min(RParamsArr_e5))"
   ]
  },
  {
   "cell_type": "markdown",
   "metadata": {},
   "source": [
    "Задание №3.\n",
    "Рассчитать для сгенерированных последовательностей математическое ожидание и дисперсию. Сравнить полученные значения с математическим ожиданием и дисперсией теоретической равномерно распределенной случайной величиной.\n"
   ]
  },
  {
   "cell_type": "code",
   "execution_count": 116,
   "metadata": {},
   "outputs": [
    {
     "name": "stdout",
     "output_type": "stream",
     "text": [
      "M\n",
      "5.0\n",
      "D\n",
      "8.3333333333333339255\n"
     ]
    }
   ],
   "source": [
    "M = np.float128(A + B / 2)\n",
    "D = np.float128((B - A) ** 2 / 12)\n",
    "\n",
    "print(\"M\")\n",
    "print(M)\n",
    "print(\"D\")\n",
    "print(D)"
   ]
  },
  {
   "cell_type": "code",
   "execution_count": 117,
   "metadata": {},
   "outputs": [
    {
     "name": "stdout",
     "output_type": "stream",
     "text": [
      "M_e2                  EpsM2\n",
      "4.8446867770981043577 3.1062644580379128456\n",
      "D_e2                  EpsD2\n",
      "8.186038407097201894 1.7675391148335842475\n",
      "8.186038407097201892\n"
     ]
    }
   ],
   "source": [
    "M_e2 = sum(RParamsArr_e2) / N_2\n",
    "EpsM2 = abs((M - M_e2) / M) * 100\n",
    "\n",
    "D_e2 = (sum([x ** 2 for x in RParamsArr_e2]) / N_2 - M_e2 ** 2) * N_2 / (N_2 - 1)\n",
    "EpsD2 = abs((D - D_e2) / D) * 100\n",
    "\n",
    "D_e2_diff = sum([(x - M_e2) ** 2 for x in RParamsArr_e2]) / (N_2 - 1)\n",
    "\n",
    "print(\"M_e2                  EpsM2\")\n",
    "print(M_e2, EpsM2)\n",
    "print(\"D_e2                  EpsD2\")\n",
    "print(D_e2, EpsD2)\n",
    "print(D_e2_diff)"
   ]
  },
  {
   "cell_type": "code",
   "execution_count": 118,
   "metadata": {},
   "outputs": [
    {
     "name": "stdout",
     "output_type": "stream",
     "text": [
      "M_e2                  EpsM2\n",
      "4.8446867770981043577 3.1062644580379128456\n",
      "D_e2                  EpsD2\n",
      "8.186038407097201894 1.7675391148335842475\n",
      "8.186038407097201892\n"
     ]
    }
   ],
   "source": [
    "M_e2 = sum(RParamsArr_e2) / N_2\n",
    "EpsM2 = abs((M - M_e2) / M) * 100\n",
    "\n",
    "D_e2 = (sum([x ** 2 for x in RParamsArr_e2]) / N_2 - M_e2 ** 2) * N_2 / (N_2 - 1)\n",
    "EpsD2 = abs((D - D_e2) / D) * 100\n",
    "\n",
    "D_e2_diff = sum([(x - M_e2) ** 2 for x in RParamsArr_e2]) / (N_2 - 1)\n",
    "\n",
    "print(\"M_e2                  EpsM2\")\n",
    "print(M_e2, EpsM2)\n",
    "print(\"D_e2                  EpsD2\")\n",
    "print(D_e2, EpsD2)\n",
    "print(D_e2_diff)"
   ]
  },
  {
   "cell_type": "code",
   "execution_count": 119,
   "metadata": {},
   "outputs": [
    {
     "name": "stdout",
     "output_type": "stream",
     "text": [
      "M_e3                  EpsM3\n",
      "5.0828436687495559456 1.6568733749911189121\n",
      "D_e3                  EpsD3\n",
      "8.127648959809111789 2.4682124822906654613\n"
     ]
    }
   ],
   "source": [
    "M_e3 = sum(RParamsArr_e3) / N_3\n",
    "EpsM3 = abs((M - M_e3) / M) * 100\n",
    "\n",
    "D_e3 = (sum([x ** 2 for x in RParamsArr_e3]) / N_3 - M_e3 ** 2) * N_3 / (N_3 - 1)\n",
    "EpsD3 = abs((D - D_e3) / D) * 100\n",
    "\n",
    "# D_e3_diff = sum([(x - M_e3) ** 2 for x in RParamsArr_e3]) / (N_3 - 1)\n",
    "\n",
    "print(\"M_e3                  EpsM3\")\n",
    "print(M_e3, EpsM3)\n",
    "print(\"D_e3                  EpsD3\")\n",
    "print(D_e3, EpsD3)\n",
    "# print(D_e3_diff)"
   ]
  },
  {
   "cell_type": "code",
   "execution_count": 120,
   "metadata": {},
   "outputs": [
    {
     "name": "stdout",
     "output_type": "stream",
     "text": [
      "M_e4                  EpsM4\n",
      "4.9970163152273744346 0.059673695452511308496\n",
      "D_e4                  EpsD4\n",
      "8.30805367255166696 0.30335592938000356246\n"
     ]
    }
   ],
   "source": [
    "M_e4 = sum(RParamsArr_e4) / N_4\n",
    "EpsM4 = abs((M - M_e4) / M) * 100\n",
    "\n",
    "D_e4 = (sum([x ** 2 for x in RParamsArr_e4]) / N_4 - M_e4 ** 2) * N_4 / (N_4 - 1)\n",
    "EpsD4 = abs((D - D_e4) / D) * 100\n",
    "\n",
    "# D_e4_diff = sum([(x - M_e4) ** 2 for x in RParamsArr_e4]) / (N_4 - 1)\n",
    "\n",
    "print(\"M_e4                  EpsM4\")\n",
    "print(M_e4, EpsM4)\n",
    "print(\"D_e4                  EpsD4\")\n",
    "print(D_e4, EpsD4)\n",
    "# print(D_e4_diff)"
   ]
  },
  {
   "cell_type": "code",
   "execution_count": 121,
   "metadata": {},
   "outputs": [
    {
     "name": "stdout",
     "output_type": "stream",
     "text": [
      "M_e5                  EpsM5\n",
      "4.9923002055045217276 0.15399588990956544765\n",
      "D_e5                  EpsD5\n",
      "8.344333893779767445 0.132006725357202229\n"
     ]
    }
   ],
   "source": [
    "M_e5 = sum(RParamsArr_e5) / N_5\n",
    "EpsM5 = abs((M - M_e5) / M) * 100\n",
    "\n",
    "D_e5 = (sum([x ** 2 for x in RParamsArr_e5]) / N_5 - M_e5 ** 2) * N_5 / (N_5 - 1)\n",
    "EpsD5 = abs((D - D_e5) / D) * 100\n",
    "\n",
    "# D_e5_diff = sum([(x - M_e5) ** 2 for x in RParamsArr_e5]) / (N_5 - 1)\n",
    "\n",
    "print(\"M_e5                  EpsM5\")\n",
    "print(M_e5, EpsM5)\n",
    "print(\"D_e5                  EpsD5\")\n",
    "print(D_e5, EpsD5)\n",
    "# print(D_e5_diff)"
   ]
  },
  {
   "cell_type": "markdown",
   "metadata": {},
   "source": [
    "Задание №4.\n",
    "Создаем функцию\n",
    "RANDPeriod,\n",
    "определяющую\n",
    "период\n",
    "сгенерированной последонательности\n"
   ]
  },
  {
   "cell_type": "code",
   "execution_count": 122,
   "metadata": {},
   "outputs": [],
   "source": [
    "def RANDPeriod(X):\n",
    "    n = len(X)  # Длина последовательности\n",
    "    period = 0\n",
    "    first_pos = 1\n",
    "    second_pos = 2\n",
    "    \n",
    "    for i in range(n):\n",
    "        element = X[i]\n",
    "        for j in range(i, n):\n",
    "            if element == X[j] and i != j:\n",
    "                period = j - i\n",
    "                first_pos = i\n",
    "                second_pos = j\n",
    "                return period, first_pos, second_pos\n",
    "\n",
    "    period = -1\n",
    "    first_pos = -1\n",
    "    second_pos = -1\n",
    "    \n",
    "    return period, first_pos, second_pos\n"
   ]
  },
  {
   "cell_type": "markdown",
   "metadata": {},
   "source": [
    "C помощью разработанной функции RANDPeriod проводим тестирование полученных последовательностей случайных чисел на\n",
    "периодичность."
   ]
  },
  {
   "cell_type": "code",
   "execution_count": 123,
   "metadata": {},
   "outputs": [
    {
     "name": "stdout",
     "output_type": "stream",
     "text": [
      "(-1, -1, -1)\n",
      "(-1, -1, -1)\n",
      "(-1, -1, -1)\n",
      "(-1, -1, -1)\n"
     ]
    }
   ],
   "source": [
    "TEST_2 = RANDPeriod(RParamsArr_e2)\n",
    "TEST_3 = RANDPeriod(RParamsArr_e3)\n",
    "TEST_4 = RANDPeriod(RParamsArr_e4)\n",
    "TEST_5 = RANDPeriod(RParamsArr_e5)\n",
    "print(TEST_2)\n",
    "print(TEST_3)\n",
    "print(TEST_4)\n",
    "print(TEST_5)\n"
   ]
  },
  {
   "cell_type": "markdown",
   "metadata": {},
   "source": [
    "Задание №5.\n",
    "Реализуем функцию определения относительных частот случайных чисел по известной выборке. Входными параметрами функции являются: выборка случайных чисел RParamsArr, левая и правая граница выборки А и В, и количество участков IntervalsCount. Выходным параметром - относительные частоты для заданных участков.\n"
   ]
  },
  {
   "cell_type": "code",
   "execution_count": 136,
   "metadata": {},
   "outputs": [],
   "source": [
    "from math import floor\n",
    "def GetFreqData(RParamsArr, A, B, IntervalsCount):\n",
    "    # Шаг интервала\n",
    "    dY = (B - A) / IntervalsCount\n",
    "    \n",
    "    # Массив для хранения частот\n",
    "    Freq = np.zeros(IntervalsCount)\n",
    "    \n",
    "    # Цикл по всем элементам выборки\n",
    "    for j in range(len(RParamsArr)):\n",
    "        Yc = RParamsArr[j]\n",
    "        FN = floor(Yc / dY)\n",
    "        Freq[FN] += 1\n",
    "\n",
    "    for i in range(IntervalsCount):\n",
    "        Freq[i] = Freq[i] / ((len(RParamsArr)) * dY)\n",
    "\n",
    "    \n",
    "    return Freq\n"
   ]
  },
  {
   "cell_type": "code",
   "execution_count": 137,
   "metadata": {},
   "outputs": [
    {
     "name": "stdout",
     "output_type": "stream",
     "text": [
      "Относительные частоты по участкам: [0.12 0.06 0.16 0.08 0.07 0.11 0.13 0.09 0.09 0.09]\n"
     ]
    },
    {
     "data": {
      "image/png": "[encoded data removed]",
      "text/plain": [
       "<Figure size 640x480 with 1 Axes>"
      ]
     },
     "metadata": {},
     "output_type": "display_data"
    }
   ],
   "source": [
    "import matplotlib.pyplot as plt\n",
    "\n",
    "\n",
    "IntervalsCount = 10\n",
    "relative_freq = GetFreqData(RParamsArr_e2, A, B, IntervalsCount) \n",
    "\n",
    "# Выводим результат\n",
    "print(\"Относительные частоты по участкам:\", relative_freq)\n",
    "\n",
    "# Построим гистограмму\n",
    "plt.bar(range(IntervalsCount), relative_freq)\n",
    "plt.xlabel(\"Интервалы\")\n",
    "plt.ylabel(\"Относительная частота\")\n",
    "plt.title(\"Гистограмма относительных частот\")\n",
    "plt.show()"
   ]
  }
 ],
 "metadata": {
  "kernelspec": {
   "display_name": ".venv",
   "language": "python",
   "name": "python3"
  },
  "language_info": {
   "codemirror_mode": {
    "name": "ipython",
    "version": 3
   },
   "file_extension": ".py",
   "mimetype": "text/x-python",
   "name": "python",
   "nbconvert_exporter": "python",
   "pygments_lexer": "ipython3",
   "version": "3.12.5"
  }
 },
 "nbformat": 4,
 "nbformat_minor": 2
}
